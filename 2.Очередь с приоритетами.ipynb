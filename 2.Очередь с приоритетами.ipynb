{
 "metadata": {
  "language_info": {
   "codemirror_mode": {
    "name": "ipython",
    "version": 3
   },
   "file_extension": ".py",
   "mimetype": "text/x-python",
   "name": "python",
   "nbconvert_exporter": "python",
   "pygments_lexer": "ipython3",
   "version": "3.8.10"
  },
  "orig_nbformat": 2,
  "kernelspec": {
   "name": "python3",
   "display_name": "Python 3.8.10 64-bit ('py38': venv)"
  },
  "metadata": {
   "interpreter": {
    "hash": "4a0ad87e8b5d33768bd025306b84ef7a0f3cfeaa852ee58d9b819e0e4cbb3e53"
   }
  },
  "interpreter": {
   "hash": "4a0ad87e8b5d33768bd025306b84ef7a0f3cfeaa852ee58d9b819e0e4cbb3e53"
  }
 },
 "nbformat": 4,
 "nbformat_minor": 2,
 "cells": [
  {
   "cell_type": "markdown",
   "source": [
    "# Очередь с приоритетами\n",
    "\n",
    "Абстрактный тип данных, поддерживающий операции:  \n",
    "\n",
    "    - insert(p) - добавить элемент с приоритетом p  \n",
    "    - extractMax() - извлечь элемент с максимальным приоритетом  \n",
    "    - remove(it) - здесь it итератор\n",
    "    - getMax()\n",
    "    - changePriority(p, q)\n",
    "\n",
    "Используется в алгоритмах Дейкстры (кратчайшие пути), Прима (мин. покрытие), Хаффмана (безпрефиксное кодирование), сортировки кучей  \n",
    "При реализации на массиве/списке вставка О(1), извлечение O(n), на упорядоченном массиве - наоборот.\n",
    "## Двоичная куча\n",
    "\n",
    "Наиболее частый вариант очереди с приоритетами. В каждом узле потомки меньше-равны родителю (минкуча).  \n",
    "\n",
    "    - getMax - ссылка на корень.\n",
    "    - insert - подвесить к последнему листу, просеять вверх.\n",
    "    - extractMax - обеменять корень с последним листом, просеять корень вниз. Просеивая, выбирать максимальный (макскуча)/ минимальный (минкуча), чтоб не ломать кучу.\n",
    "    - changePriority - изменить приоритет, просеять вниз/вверх в зависимости от направления изменения приоритета.\n",
    "    - remove - изменить приоритет на +/-inf, просеять вверх, извлечь максимум.\n",
    "\n",
    "Сложность O(высота), поэтому надо поддерживать почти полностью заполненное состояние (ребалансировать), когда незаполнен только самый нижний уровень. В этом случае будет O(logn), плюс удобно хранить в массиве, ссылки:   \n",
    "    \n",
    "    - parent(i) = i // 2    # округл. вниз\n",
    "    - left(i) = 2*i \n",
    "    - right(i) = 2*i + 1\n",
    "\n",
    "    SiftUp(i):\n",
    "        while i>1 and H[parent(i)] < H[i]:  \n",
    "            swap(H[parent(i)], H[i])\n",
    "            i = parent(i)\n",
    "\n",
    "    SiftDown(i):    \n",
    "        maxI = i\n",
    "        l = left(i) \n",
    "        if l<=size and H[l]>H[maxI]:\n",
    "            maxI = l    \n",
    "        l = right(i) \n",
    "        if r<=size and H[r]>H[maxI]:\n",
    "            maxI = r    \n",
    "        if i != maxI:\n",
    "            swap(H[i], H[maxI])\n",
    "            SiftDown(maxI)\n",
    "\n",
    "    Insert(p):\n",
    "        if size == maxSize:\n",
    "            return ERROR\n",
    "        size = size + 1\n",
    "        H[size] = p \n",
    "        SiftUp(size)\n",
    "\n",
    "    ExtratcMax():\n",
    "        result = H[1]\n",
    "        H[1] = H[size]\n",
    "        size = size - 1\n",
    "        SiftDown(1)\n",
    "        return result\n",
    "\n",
    "    Remove(i):\n",
    "        H[i] = inf\n",
    "        SiftUp(i)\n",
    "        ExtratcMax()\n",
    "\n",
    "        \n",
    "    ChangePriority(i, p):\n",
    "        oldP = H[i]\n",
    "        H[i] = p    \n",
    "        if p > opdP:\n",
    "            SiftUp(i)\n",
    "        else:\n",
    "            SiftDown(i)\n",
    "        \n"
   ],
   "metadata": {}
  },
  {
   "cell_type": "markdown",
   "source": [
    "## Сортировка кучей \n",
    "\n",
    "O(n logn) в худшем случае (быстрая такое показывает только в среднем).  \n",
    "Алгоритм быстрой сортировки чаще используют на практике, поскольку в большинстве случаев он работает быстрее, но алгоритм сортировки кучей используется для внешней сортировки данных, когда необходимо отсортировать данные огромного размера, не помещающиеся в память компьютера.\n",
    "\n",
    "\tПроцедура HeapSort(A[1. . .n]) \n",
    "\tH←{} {мин-куча}  \n",
    "\tдля i от 1 до n:  \n",
    "\t\tInsert(H,A[i])\n",
    "\tдля i от 1 до n:  \n",
    "\t\tA`[i]←ExtractMin(H)\n",
    "\tвернуть A`\n",
    "\n",
    "Сортирует не на месте, т.е. использует доп. память, но это можно побороть\n",
    "\n",
    "Превратить массив в кучу\n",
    "\n",
    "\tBuildHeap(A[1..n])\n",
    "\tsize = n\t\n",
    "\tfor i from n//2 to 1:\t# n//2 это первый элемент, после которого на хвосте и могут быть нарушены связи, выше все уже четко\n",
    "\t\tSiftDown(i)\n",
    "\t\n",
    "\tHeapSort(A[1..n])\t\n",
    "\tBuildHeap(A)\t(size = n)\n",
    "\trepeat (n-1) times:\t\n",
    "\t\tswap A[1] A[size]\n",
    "\t\tsize = size - 1\n",
    "\t\tSiftDown(1)\n",
    "\n",
    "Тогда удобно делать частичную сортировку, вытаскивать k макс/мин эл. за O(n + klogn)\n",
    "\n",
    "\tBuildHeap(A)\n",
    "\tfor i from 1 to k:\t\n",
    "\t\tExtractMin()\n",
    "\t\t\n",
    "Замечания:\n",
    "\n",
    "\t1. 0-base индексация: p(i) = (i-1)//2, l(i) = 2i+1, r(i) = 2i + 2\n",
    "\t2. Минкуча аналогично, можно просто на -1 умножить входные данные\n",
    "\t3. d-ичная куча: высота logd(n). T(SiftUp) = O(logd(n))  T(SiftDown) = O(d*logd(n))\n"
   ],
   "metadata": {}
  },
  {
   "cell_type": "markdown",
   "source": [
    "## Задача. Построение кучи\n",
    "\n",
    "Переставить элементы заданного массива чисел так, чтобы он удовлетворял свойству мин-кучи.  \n",
    "Вход. Массив чисел A\\[0..n-1].      \n",
    "Выход. Переставить элементы массива так, чтобы выполнялись неравенства A\\[i] ≤ A\\[2i + 1] и A\\[i] ≤ A\\[2i + 2] для всех i.  \n",
    "Формат входа. Первая строка содержит число n. Следующая строка задаёт массив чисел A\\[0], ... , A\\[n − 1].  \n",
    "Формат выхода. Первая строка выхода должна содержать число обменов m, которое должно удовлетворять неравенству 0 ≤ m ≤ 4n. Каждая из последующих m строк должна задавать обмен двух элементов массива A. Каждый обмен задаётся парой различных индексов 0 ≤ i != j ≤ n-1. После применения всех обменов в указанном порядке массив должен превратиться в мин-кучу, то\n",
    "есть для всех 0 ≤ i ≤ n-1 должны выполняться следующие два условия:\n",
    "\n",
    "    • если 2i + 1 ≤ n − 1, то A\\[i] < A\\[2i + 1].\n",
    "    • если 2i + 2 ≤ n − 1, то A\\[i] < A\\[2i + 2].\n",
    "\n",
    "Ограничения. 1 ≤ n ≤ 10^5; 0 ≤ A\\[i] ≤ 10^9 для всех 0 ≤ i ≤ n-1; все A\\[i] попарно различны; i != j.\n",
    "\n"
   ],
   "metadata": {}
  },
  {
   "cell_type": "code",
   "execution_count": 1,
   "source": [
    "SAMPLE = \"5\\n5 4 3 2 1\", \"5\\n1 2 3 4 5\", \"6\\n0 1 2 3 4 5\"\n",
    "OUTPUT = \"\"\"3\n",
    "1 4\n",
    "0 1\n",
    "1 3\"\"\", \"0\", \"0\"\n",
    "READER = (x for x in SAMPLE[0].split('\\n'))\n",
    "input = lambda: next(READER)   \n",
    "\n",
    "n = int(input())\n",
    "A = list(map(int, input().split()))\n",
    "\n",
    "parent = lambda i: (i - 1) // 2\n",
    "left = lambda i: 2 * i + 1\n",
    "right = lambda i: 2 * i + 2\n",
    "\n",
    "logger = []\n",
    "\n",
    "def sift_down(i, size, H):\n",
    "    min_i = i\n",
    "    l = left(i) \n",
    "    if l < size and H[l] < H[min_i]:\n",
    "        min_i = l\n",
    "    r = right(i) \n",
    "    if r < size and H[r] < H[min_i]:         \n",
    "        min_i = r    \n",
    "    if i != min_i:\n",
    "        H[i], H[min_i] = H[min_i], H[i]\n",
    "        logger.append((i, min_i))\n",
    "        sift_down(min_i, n, H)\n",
    "\n",
    "def heapify(size, arr):\n",
    "    for i in range(size // 2 - 1, -1, -1):\n",
    "        sift_down(i, n, arr)\n",
    "\n",
    "heapify(n, A)\n",
    "print(len(logger))\n",
    "for l in logger:\n",
    "    print(l[0], l[1])\n"
   ],
   "outputs": [
    {
     "output_type": "stream",
     "name": "stdout",
     "text": [
      "3\n",
      "1 4\n",
      "0 1\n",
      "1 3\n"
     ]
    }
   ],
   "metadata": {}
  },
  {
   "cell_type": "markdown",
   "source": [
    "## Задача. Параллельная обработка\n",
    "\n",
    "По данным n процессорам и m задач определите, для каждой из задач, каким процессором она будет обработана.  \n",
    "Вход. Число процессоров n и последовательность чисел t 0 , .. , t m−1 , где t i — время, необходимое на обработку i-й задачи.  \n",
    "Выход. Для каждой задачи определите, какой процессор и в какое время начнёт её обрабатывать, предполагая, что каждая задача поступает на обработку первому освободившемуся процессору.  \n",
    "Ограничения. 1 ≤ n ≤ 10^5 ; 1 ≤ m ≤ 10^5 ; 0 ≤ t i ≤ 10^9.\n"
   ],
   "metadata": {}
  },
  {
   "cell_type": "code",
   "execution_count": 16,
   "source": [
    "SAMPLE = \"2 5\\n1 2 3 4 5\", \"4 20\\n1 1 1 1 1 1 1 1 1 1 1 1 1 1 1 1 1 1 1 1\"\n",
    "OUTPUT = ...\n",
    "READER = (x for x in SAMPLE[0].split('\\n')); input = lambda: next(READER)\n",
    "\n",
    "n, m = list(map(int, input().split()))\n",
    "T = list(map(int, input().split()))\n",
    "\n",
    "def sift_down(i, size, H):\n",
    "    left = lambda i: 2 * i + 1\n",
    "    right = lambda i: 2 * i + 2\n",
    "    compare = lambda A, B: A[\"time\"] < B[\"time\"] if A[\"time\"] != B[\"time\"] else A[\"CPU\"] < B[\"CPU\"]\n",
    "\n",
    "    min_i = i\n",
    "    l = left(i) \n",
    "    if l < size and compare(H[l], H[min_i]):\n",
    "        min_i = l\n",
    "    r = right(i) \n",
    "    if r < size and compare(H[r], H[min_i]):         \n",
    "        min_i = r\n",
    "    if i != min_i:\n",
    "        H[i], H[min_i] = H[min_i], H[i]\n",
    "        sift_down(min_i, size, H)\n",
    "\n",
    "def tasks():\n",
    "    camputer = []\n",
    "    for i in range(n):\n",
    "        camputer.append({\"CPU\": i, \"time\": 0})\n",
    "    \n",
    "    for i in range(m):\n",
    "        yield camputer[0]\n",
    "        camputer[0][\"time\"] += T[i]\n",
    "        sift_down(0, n, camputer)\n",
    "    \n",
    "\n",
    "[print(*x.values()) for x in tasks()]"
   ],
   "outputs": [
    {
     "output_type": "stream",
     "name": "stdout",
     "text": [
      "0 0\n",
      "1 0\n",
      "0 1\n",
      "1 2\n",
      "0 4\n"
     ]
    },
    {
     "output_type": "execute_result",
     "data": {
      "text/plain": [
       "[None, None, None, None, None]"
      ]
     },
     "metadata": {},
     "execution_count": 16
    }
   ],
   "metadata": {}
  },
  {
   "cell_type": "code",
   "execution_count": 15,
   "source": [
    "SAMPLE = \"2 5\\n1 2 3 4 5\", \"4 20\\n1 1 1 1 1 1 1 1 1 1 1 1 1 1 1 1 1 1 1 1\"\n",
    "OUTPUT = ...\n",
    "READER = (x for x in SAMPLE[0].split('\\n')); input = lambda: next(READER)\n",
    "\n",
    "n, m = list(map(int, input().split()))\n",
    "T = list(map(int, input().split()))\n",
    "\n",
    "def sift_down(i, size, H):\n",
    "    left = lambda i: 2 * i + 1\n",
    "    right = lambda i: 2 * i + 2\n",
    "    compare = lambda A, B: A[\"time\"] < B[\"time\"] if A[\"time\"] != B[\"time\"] else A[\"CPU\"] < B[\"CPU\"]\n",
    "\n",
    "    min_i = i\n",
    "    l = left(i) \n",
    "    if l < size and compare(H[l], H[min_i]):\n",
    "        min_i = l\n",
    "    r = right(i) \n",
    "    if r < size and compare(H[r], H[min_i]):         \n",
    "        min_i = r\n",
    "    if i != min_i:\n",
    "        H[i], H[min_i] = H[min_i], H[i]\n",
    "        sift_down(min_i, size, H)\n",
    "\n",
    "def tasks():\n",
    "    camputer = []\n",
    "    for i in range(n):\n",
    "        camputer.append({\"CPU\": i, \"time\": 0})\n",
    "    \n",
    "    for i in range(m):\n",
    "        yield camputer[0]\n",
    "        camputer[0][\"time\"] += T[i]\n",
    "        sift_down(0, n, camputer)\n",
    "\n",
    "[print(*x.values()) for x in tasks()]"
   ],
   "outputs": [
    {
     "output_type": "stream",
     "name": "stdout",
     "text": [
      "0 0\n",
      "1 0\n",
      "0 1\n",
      "1 2\n",
      "0 4\n"
     ]
    },
    {
     "output_type": "execute_result",
     "data": {
      "text/plain": [
       "[None, None, None, None, None]"
      ]
     },
     "metadata": {},
     "execution_count": 15
    }
   ],
   "metadata": {}
  },
  {
   "cell_type": "code",
   "execution_count": 14,
   "source": [
    "READER = (x for x in SAMPLE[0].split('\\n')); input = lambda: next(READER)\n",
    "\n",
    "n, m = list(map(int, input().split()))\n",
    "T = list(map(int, input().split()))\n",
    "\n",
    "from heapq import heapify, heapreplace\n",
    "\n",
    "def tasks():\n",
    "    cpu = [[0, i] for i in range(n)]\n",
    "    heapify(cpu)\n",
    "    yield from [heapreplace(cpu, [cpu[0][0] + T[i], cpu[0][1]]) for i in range(m)]\n",
    "    \n",
    "[print(x[1], x[0]) for x in tasks()]"
   ],
   "outputs": [
    {
     "output_type": "stream",
     "name": "stdout",
     "text": [
      "0 0\n",
      "1 0\n",
      "0 1\n",
      "1 2\n",
      "0 4\n"
     ]
    },
    {
     "output_type": "execute_result",
     "data": {
      "text/plain": [
       "[None, None, None, None, None]"
      ]
     },
     "metadata": {},
     "execution_count": 14
    }
   ],
   "metadata": {}
  },
  {
   "cell_type": "code",
   "execution_count": null,
   "source": [],
   "outputs": [],
   "metadata": {}
  }
 ]
}
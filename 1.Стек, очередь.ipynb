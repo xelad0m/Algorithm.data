{
 "metadata": {
  "language_info": {
   "codemirror_mode": {
    "name": "ipython",
    "version": 3
   },
   "file_extension": ".py",
   "mimetype": "text/x-python",
   "name": "python",
   "nbconvert_exporter": "python",
   "pygments_lexer": "ipython3",
   "version": "3.8.5"
  },
  "orig_nbformat": 2,
  "kernelspec": {
   "name": "python385jvsc74a57bd04a0ad87e8b5d33768bd025306b84ef7a0f3cfeaa852ee58d9b819e0e4cbb3e53",
   "display_name": "Python 3.8.5 64-bit ('py38': venv)"
  },
  "metadata": {
   "interpreter": {
    "hash": "4a0ad87e8b5d33768bd025306b84ef7a0f3cfeaa852ee58d9b819e0e4cbb3e53"
   }
  }
 },
 "nbformat": 4,
 "nbformat_minor": 2,
 "cells": [
  {
   "source": [
    "# Базовые структуры данных\n",
    "\n",
    "### Физическая реализация\n",
    "\n",
    "Массивы - константный доступ по индексу, непрер. кусок памяти, фикс. размер. Вставка, удаление O(n), т.к. все сдвигается.   \n",
    "Списки (односвязные, двусвязные) - доступ, вставка, удаление О(1).  \n",
    "\n",
    "### Абстрактные струкутры данных\n",
    "\n",
    "Стек (LIFO) - методы Push(key), key Top(), key Pop(), bool Empty()  \n",
    "Стек с поддержкой минимума - заводится параллельный стек куда кладется новый элемент, если он меньше Top() или повторяется Push(Top()). На каждом шаге Top() указывает на минимальный элемент в целевом стеке.  \n",
    "Очередь (FIFO) - методы Enqueue() / PushBack(), Dequeue() / PopFront(), bool Empty().    \n",
    "- Если реализация с помощью массива, то индексы берутся по модулю длины массива (ходят по кругу).  \n",
    "- Можно реализовать двумя стеками - в один элементы помещаются Enqueue(), из второго забираются Dequeue(). Если второй пустой, перед забором элемента в него перекладывается все, что накопилось в первой стеке.\n",
    "\n",
    "Задача: \n",
    "\n",
    "    вход: массив чисел длины n, и число m - рамер окна просмотра\n",
    "    выход: массив все минимумов в подмассивах длины m\n",
    "    решение: наивное решение дает O(n*m) - все сравниваются со всеми. Через стек с минимумом - O(n+m)\n",
    "    \n",
    "Дерево - связный граф без циклов (n вершин, n-1 ребер, междуюбыми двумя вершинами ровно один путь). Корневое дерево - дерево с объявленным корнем.  \n",
    "Способы представления:  \n",
    "\n",
    "    1. Список родителей (индекс - это потомок, значение - индекс родителя). Родитель только один, поэтому реализуется просто списком (массивом)\n",
    "    2. Список потомков (список смежностей) - по индеску это родителя ссылка на список индексов потомков. Список списков.\n",
    "    3. Структура данных с полями: родитель, потомки (м.б. отдельно левый/правый), данные.   \n",
    "Деревья удобно определять рекурсивно, т.к. все поддеревья являются деревьями.   \n",
    "Высота дерева - максимальная длина пути от корня.   \n",
    "\n",
    "    height(r):   \n",
    "    h = 1   \n",
    "    for all child c of r:   \n",
    "        height(c) = max(h, 1 + height(c))  \n",
    "    return h    \n",
    "\n",
    "    printTree(r):   \n",
    "    print(r)    \n",
    "    for all child c of r:   \n",
    "        printTree(c)    \n",
    "\n",
    "        \n",
    "\n",
    "\n",
    "\n"
   ],
   "cell_type": "markdown",
   "metadata": {}
  },
  {
   "source": [
    "### Массивы переменного размера\n",
    "При необходимости увеличения размера массива это можно делать аддитивно (на n элементов) или мультипликативно (в m раз).    \n",
    "- Аддитивный подход - сложность O(n^2), при увеличении от 0 до n арифмитическая прогрессия, но экономия памяти.   \n",
    "- Мультипликативная релокация - сложность O(n), геометрическая прогрессия, но больше памяти. Все используют эту схему (cpp vector). Коэффициент обычно 1.5 или золотое сечение.   \n",
    "\n",
    "#### Метод потенциалов оценки эффективности операций\n",
    "\n",
    "Пусть Ci стоимость операции OPi, переводящей некоторую неизвестную структуру данных S из состояния s(i-1) в si. Обозначим Fi потенциал состояния si. Тогда учетная стоимость операции CUi = Ci + (Fi - F(i-1)). И тогда истинная сумма Ci = сумме CUi + (F0 - Fn). Подбор удобных F0..Fn позволяет превратить сумму CUi в константу и даст оценку эффективности операции над структурой данных.    \n",
    "\n",
    "- На примере мультипликативной релокации:   \n",
    "    l -> 2l, Fi = 2s*l, s - количество занятых ячеек, l - длина массива, потенциал - сколько осталось места для полного заполнения массива.     \n",
    "\n",
    "        1. Добавление без релокации: s -> s+1, l -> l, Ci = 1, CUi = 1 + (2(s+1) - l - 2(s - l)) = 3    \n",
    "        2. С релокацией: s = l, s -> s + 1, l -> 2l, Ci = l + 1, CUi = l + 1 + (2(l+1) - 2l) - (2l - l) = 3 \n",
    "        Тогда сумма CUi = сумма Ci + (F0 - Fn) = 3m + (F0 - Fn) -> Teta(n)\n",
    "\n",
    "    Суть примерно, сглаживание графика стоимости операций путем замены переменной и приведение его к плоскому виду.\n",
    "\n",
    "\n"
   ],
   "cell_type": "markdown",
   "metadata": {}
  },
  {
   "source": [
    "## Задача: Расстановка скобок в коде \n",
    "Проверить, правильно ли расставлены скобки в данном коде.   \n",
    "Вход. Исходный код программы.   \n",
    "Выход.Проверить, верно ли расставлены скобки. Если нет,выдать индекс первой ошибки."
   ],
   "cell_type": "markdown",
   "metadata": {}
  },
  {
   "cell_type": "code",
   "execution_count": 1,
   "metadata": {},
   "outputs": [
    {
     "output_type": "execute_result",
     "data": {
      "text/plain": [
       "[True, True, True, True, True, True, True, True, True, True, True, True, True]"
      ]
     },
     "metadata": {},
     "execution_count": 1
    }
   ],
   "source": [
    "SAMPLES = \"([](){([])})\", \"()[]}\", \"{{[()]]\", \"{{{[][][]\", \"{*{{}\", \"[[*\", \"{*}\", \"{{\", \"{}\", \"\", \"}\", \"*{}\", \"{{{**[][][]\"\n",
    "OUTPUTS = 'Success', 5, 7, 3, 3, 2, 'Success', 2, 'Success', 'Success', 1, 'Success', 3\n",
    "\n",
    "def bracket_check(s):\n",
    "    stack = list()\n",
    "    for i, ch in enumerate(s, 1):\n",
    "        if ch in (\"(\", \"[\", \"{\"):\n",
    "            stack.append((i, ch))\n",
    "        elif ch in (\")\", \"]\", \"}\"):\n",
    "            if len(stack) == 0:\n",
    "                return i\n",
    "            _, top = stack.pop()\n",
    "            if (top == \"(\" and ch != \")\") or \\\n",
    "               (top == \"[\" and ch != \"]\") or \\\n",
    "               (top == \"{\" and ch != \"}\"):\n",
    "                return i\n",
    "    \n",
    "    return stack[-1][0] if stack else \"Success\"\n",
    "\n",
    "\n",
    "\n",
    "test = lambda func: [func(sample) == answer for (sample, answer) in zip(SAMPLES, OUTPUTS)]\n",
    "test(bracket_check)"
   ]
  },
  {
   "source": [
    "## Вычислить высоту данного дерева.    \n",
    "Вход. Корневое дерево с вершинами {0, . . . , n−1}, заданное как последовательность parent0, . . . ,parentn−1, где parenti — родитель i-й вершины. n < 10^5.    \n",
    "Выход. Высота дерева."
   ],
   "cell_type": "markdown",
   "metadata": {}
  },
  {
   "cell_type": "code",
   "execution_count": 2,
   "metadata": {},
   "outputs": [
    {
     "output_type": "stream",
     "name": "stdout",
     "text": [
      "4\n"
     ]
    },
    {
     "output_type": "execute_result",
     "data": {
      "text/plain": [
       "[True, True, True, True, True, True, True]"
      ]
     },
     "metadata": {},
     "execution_count": 2
    }
   ],
   "source": [
    "SAMPLES = \"10\\n9 7 5 5 2 9 9 9 2 -1\", \"5\\n4 -1 4 1 1\", \"5\\n-1 0 0 0 0\", \"5\\n1 -1 1 1 1\", \"5\\n4 4 4 4 -1\", \"5\\n-1 0 1 2 3\", \"5\\n1 -1 0 2 3\", \"5\\n1 2 3 4 -1\"\n",
    "OUTPUTS = 4, 3, 2, 2, 2, 5, 5, 5\n",
    "\n",
    "READER = [(x for x in SAMPLES[i].split('\\n')) for i in range(len(SAMPLES))]                             # список генераторов входных данных\n",
    "input = lambda i=0:  next(READER[i])                                                                   # для эмулятора input()\n",
    "\n",
    "\n",
    "# put your python code here\n",
    "from functools import lru_cache\n",
    "\n",
    "def heightTD(parents):\n",
    "    @lru_cache(maxsize=None)\n",
    "    def _height(child):\n",
    "        h = 1\n",
    "        for ch, par in enumerate(parents):\n",
    "            if par == child:\n",
    "                h = max(h, 1 + _height(ch))\n",
    "        return h\n",
    "\n",
    "    return _height(parents.index(-1))\n",
    "    \n",
    "    \n",
    "def heightN2(parents):                                    # O(n^2)\n",
    "    height, n = 1, len(parents)\n",
    "    stack = []\n",
    "\n",
    "    while True:\n",
    "        core = [False] * n       \n",
    "        if not stack:\n",
    "            for child in range(n):\n",
    "                if parents[child] != -1: \n",
    "                    core[parents[child]] = True\n",
    "        else:\n",
    "            while stack:\n",
    "                child = stack.pop()\n",
    "                if parents[child] != -1:\n",
    "                    core[parents[child]] = True\n",
    "        for child in range(n):\n",
    "            if core[child]:\n",
    "                stack.append(child)\n",
    "        if len(stack) > 0:\n",
    "            height = height + 1\n",
    "        else:\n",
    "            return height\n",
    "\n",
    "def heightRecursive(parents):\n",
    "    n = len(parents)\n",
    "    depths = [0] * n                                # глубина поддерева с корнем в i\n",
    "\n",
    "    def fillDepths(child):\n",
    "        if depths[child] > 0:\n",
    "            return                                  # уже посчитали...\n",
    "        if parents[child] == -1:\n",
    "            depths[child] = 1    \n",
    "            return                                  # ...или добрались до корня\n",
    "        if depths[parents[child]] == 0:\n",
    "            fillDepths(parents[child])              # вычислить у родителя...\n",
    "        \n",
    "        depths[child] = depths[parents[child]] + 1  # ...добавить потомку высоту родителя + 1\n",
    "\n",
    "    for child in range(n):\n",
    "        fillDepths(child)\n",
    "\n",
    "    max_depth = depths[0]\n",
    "    for i in range(1, n):\n",
    "        max_depth = max(max_depth, depths[i])\n",
    "    return max_depth\n",
    "\n",
    "def heightIterative(parents):\n",
    "    n = len(parents)\n",
    "    depths = [None] * n\n",
    "    max_depth = 0\n",
    "\n",
    "    for child, parent in enumerate(parents):\n",
    "        parent_stack = []\n",
    "        while parent != -1 and depths[child] is None:       # пока не дойдем до корня или уже посещенной вершины\n",
    "            parent_stack.append(child)\n",
    "            child, parent = parent, parents[parent]\n",
    "        parent_stack.append(child)                          # добавим корень\n",
    "        if parent == -1:\n",
    "            depth = 1\n",
    "        else:\n",
    "            depth = depths[child]                           # ранее найденная глубина\n",
    "        while parent_stack:\n",
    "            depths[parent_stack.pop()] = depth\n",
    "            depth += 1                                      # ... из-за этого плюса в ретурне минус\n",
    "        if max_depth < depth:\n",
    "            max_depth = depth\n",
    "\n",
    "    return max_depth - 1\n",
    "\n",
    "k=0\n",
    "def main():\n",
    "    n = int(input(i=k))\n",
    "    T = list(map(int, input(i=k).split()))\n",
    "    print(heightIterative(T))\n",
    "    \n",
    "\n",
    "main()\n",
    "\n",
    "# tests area\n",
    "def test(func, i=0):\n",
    "    n = int(input(i=i))\n",
    "    T = list(map(int, input(i=i).split()))\n",
    "    return func(T)\n",
    "\n",
    "test_cases = lambda tester, func: [tester(func, i=case) == out for case, out in enumerate(OUTPUTS[1:], 1)]\n",
    "test_cases(test, heightIterative)"
   ]
  },
  {
   "cell_type": "code",
   "execution_count": 3,
   "metadata": {
    "tags": []
   },
   "outputs": [
    {
     "output_type": "stream",
     "name": "stdout",
     "text": [
      "heightIterative 56675033\n"
     ]
    },
    {
     "output_type": "display_data",
     "data": {
      "text/plain": "<Figure size 432x288 with 1 Axes>",
      "image/png": "[encoded data removed]"
     },
     "metadata": {
      "needs_background": "light"
     }
    }
   ],
   "source": [
    "import sys\n",
    "from time import perf_counter_ns\n",
    "from matplotlib import pyplot as plt\n",
    "\n",
    "def timeit(func, *args, n_iter=10):\n",
    "    t1 = float('inf')\n",
    "    for _ in range(n_iter):\n",
    "        t0 = perf_counter_ns()\n",
    "        func(*args)\n",
    "        t1 = min(t1, perf_counter_ns() - t0)\n",
    "    return t1\n",
    "\n",
    "num = 10 ** 5       # 10**5 дает при рекурсии Ошибка сегментирования (стек памяти сброшен на диск), хотя в решальщике тест проходит\n",
    "sys.setrecursionlimit(num + 1)\n",
    "\n",
    "funcs = [heightIterative]\n",
    "arg1 = [i+1 for i in range(num-1)] + [-1]\n",
    "arg2 = [i - 1 for i in range(num)]\n",
    "\n",
    "\n",
    "for func in funcs:\n",
    "    t1 = timeit(func, arg1)\n",
    "    t2 = timeit(func, arg2)\n",
    "    print(func.__name__, t1)\n",
    "    plt.bar(func.__name__+' (last)', t1)\n",
    "    plt.bar(func.__name__+' (first)', t2)\n",
    "plt.grid(True)\n",
    "plt.show()\n"
   ]
  },
  {
   "source": [
    "## Задача. Симуляция обработки сетевых пакетов\n",
    "\n",
    "Вход. Размер буфера 1<= size <=10^5 и число пакетов 0<= n <=10^5, а так же две последовательности arrival 1 .. arrival n (<= 10^6) и duration 1 .. duration n (<=10^3), обозначающих время поступления и длительность обработки n пакетов. {arrival} неубывающая\n",
    "\n",
    "Выход. Для каждого из данных n пакетов необходимо вывести время начала его обработки или −1, если пакет не был обработан (это происходит в случае, когда пакет поступает в момент, когда в буфере компьютера уже находится size пакетов).   \n",
    "\n"
   ],
   "cell_type": "markdown",
   "metadata": {}
  },
  {
   "cell_type": "code",
   "execution_count": 4,
   "metadata": {
    "tags": []
   },
   "outputs": [],
   "source": [
    "class Queue():\n",
    "    def __init__(self, size, repr=0):\n",
    "        self.size = size\n",
    "        self.length = 0     # current len of queue\n",
    "        self.cost = 0       # cost of enqueued\n",
    "        self.full = False\n",
    "        self.empty = True\n",
    "        self._queue = [-1] * self.size\n",
    "        self._back = 0      # points empty to push\n",
    "        self._front = 0     # points not empty to pop\n",
    "        self._repr = repr\n",
    "\n",
    "    def front(self):\n",
    "        return self._queue[self._front]\n",
    "\n",
    "    def pushBack(self, key):\n",
    "        if self.full:\n",
    "            return -1\n",
    "        else:\n",
    "            self._queue[self._back] = key       \n",
    "            self._back = (self.size + self._back - 1) % self.size\n",
    "            self.length += 1\n",
    "            self.cost += key\n",
    "            self.full = True and (self.length == self.size)\n",
    "            self.empty = False and self.empty\n",
    "            return self.cost - key\n",
    "            \n",
    "\n",
    "    def popFront(self):\n",
    "        if not self.empty:\n",
    "            key = self._queue[self._front]\n",
    "            self._queue[self._front] = -1\n",
    "            self._front = (self.size + self._front - 1) % self.size\n",
    "            self.length -= 1\n",
    "            self.cost -= key\n",
    "            self.empty = True and (self.length == 0)\n",
    "            self.full = False and self.full\n",
    "\n",
    "\n",
    "    def update(self, d_time):\n",
    "        if d_time >= self.cost:\n",
    "            self.__init__(self.size, repr=self._repr)       # release queue\n",
    "        else:\n",
    "            while d_time:\n",
    "                if self.front() <= d_time:                  # pop\n",
    "                    d_time = d_time - self.front()\n",
    "                    self.popFront()\n",
    "                else:                                       # 'partial' pop\n",
    "                    self._queue[self._front] -= d_time\n",
    "                    self.cost -= d_time     \n",
    "                    d_time = 0\n",
    "\n",
    "        if self._repr: print(\"\\n{}\".format(self), end=' ')\n",
    "\n",
    "    \n",
    "    def __repr__(self):\n",
    "        l = self._repr\n",
    "        pretify = lambda x: \"[{}]\".format(' '*(l - len(str(x))) + str(x) if x >= 0 else ' '*l)\n",
    "        Q = ''\n",
    "        i = self._front\n",
    "        while i > self._front - self.size:\n",
    "            Q += pretify(self._queue[i])\n",
    "            i -= 1\n",
    "        return \"{} {:>3}/{:<3} \".format(Q, self.length, self.size)\n"
   ]
  },
  {
   "cell_type": "code",
   "execution_count": 5,
   "metadata": {},
   "outputs": [
    {
     "output_type": "stream",
     "name": "stdout",
     "text": [
      "Состояние на момент послупления нового запроса -> одиж.время начала обслуживания\n\n[  ][  ][  ][  ][  ][  ][  ][  ][  ][  ]   0/10   arr:  3 dur:  1  -> start: 3 \n[  ][  ][  ][  ][  ][  ][  ][  ][  ][  ]   0/10   arr:  5 dur:  4  -> start: 5 \n[ 3][  ][  ][  ][  ][  ][  ][  ][  ][  ]   1/10   arr:  6 dur:  4  -> start: 9 \n[ 2][ 4][  ][  ][  ][  ][  ][  ][  ][  ]   2/10   arr:  7 dur:  3  -> start: 13 \n[ 4][ 3][  ][  ][  ][  ][  ][  ][  ][  ]   2/10   arr:  9 dur:  2  -> start: 16 \n[ 4][ 3][ 2][  ][  ][  ][  ][  ][  ][  ]   3/10   arr:  9 dur:  0  -> start: 18 \n[ 3][ 3][ 2][ 0][  ][  ][  ][  ][  ][  ]   4/10   arr: 10 dur:  3  -> start: 18 \n[ 3][ 3][ 2][ 0][ 3][  ][  ][  ][  ][  ]   5/10   arr: 10 dur:  0  -> start: 21 \n[ 2][ 3][ 2][ 0][ 3][ 0][  ][  ][  ][  ]   6/10   arr: 11 dur:  0  -> start: 21 \n[ 2][ 3][ 2][ 0][ 3][ 0][ 0][  ][  ][  ]   7/10   arr: 11 dur:  1  -> start: 21 \n[ 2][ 3][ 2][ 0][ 3][ 0][ 0][ 1][  ][  ]   8/10   arr: 11 dur:  0  -> start: 22 \n[ 3][ 2][ 0][ 3][ 0][ 0][ 1][ 0][  ][  ]   8/10   arr: 13 dur:  2  -> start: 22 \n[ 3][ 2][ 0][ 3][ 0][ 0][ 1][ 0][ 2][  ]   9/10   arr: 13 dur:  1  -> start: 24 \n[ 1][ 2][ 0][ 3][ 0][ 0][ 1][ 0][ 2][ 1]  10/10   arr: 15 dur:  0  -> start: -1 \n[ 1][ 0][ 3][ 0][ 0][ 1][ 0][ 2][ 1][  ]   9/10   arr: 17 dur:  2  -> start: 25 \n[ 1][ 0][ 3][ 0][ 0][ 1][ 0][ 2][ 1][ 2]  10/10   arr: 17 dur:  0  -> start: -1 \n[ 0][ 3][ 0][ 0][ 1][ 0][ 2][ 1][ 2][  ]   9/10   arr: 18 dur:  2  -> start: 27 \n[ 0][ 3][ 0][ 0][ 1][ 0][ 2][ 1][ 2][ 2]  10/10   arr: 18 dur:  4  -> start: -1 \n[ 2][ 0][ 0][ 1][ 0][ 2][ 1][ 2][ 2][  ]   9/10   arr: 19 dur:  3  -> start: 29 \n[ 1][ 0][ 0][ 1][ 0][ 2][ 1][ 2][ 2][ 3]  10/10   arr: 20 dur:  1  -> start: -1 "
     ]
    }
   ],
   "source": [
    "import random\n",
    "\n",
    "size, n = 10, 20\n",
    "\n",
    "A = sorted([random.randint(0, n) for _ in range(n)])    # время поступления\n",
    "D = [random.randint(0, n//5) for _ in range(n)]         # длительность обслуживиная\n",
    "q = Queue(size, repr=len(str(n)))\n",
    "\n",
    "print(\"Состояние на момент послупления нового запроса -> одиж.время начала обслуживания\")\n",
    "if n > 0:\n",
    "    q.update(A[0] - 0)\n",
    "    print(\"arr:{:>3} dur:{:>3} \".format(A[0], D[0]), end=' -> start: ')\n",
    "    Di = q.pushBack(D[0])\n",
    "    Ai = A[0] + Di if Di != -1 else -1\n",
    "    print(Ai, end= ' ')\n",
    "    for i in range(1, n):\n",
    "        q.update(A[i] - A[i-1])\n",
    "        print(\"arr:{:>3} dur:{:>3} \".format(A[i], D[i]), end=' -> start: ')\n",
    "        Di = q.pushBack(D[i])\n",
    "        Ai = A[i] + Di if Di != -1 else -1\n",
    "        print(Ai, end= ' ')\n"
   ]
  },
  {
   "cell_type": "code",
   "execution_count": 6,
   "metadata": {},
   "outputs": [],
   "source": [
    "def queue_test(size, intens, mean, d_mean, n_req=10000):                         # intens - поступление (пак/сек), mean - обработка (сек/пакет), d_mean - разброс обработки (%)\n",
    "    # возвращает процент дропнутых пакетов и среднюю заполненность очереди\n",
    "    A = sorted([random.randint(0, n_req // intens) for _ in range(n_req)])      # времена поступления \n",
    "    dm =  mean * d_mean // 100\n",
    "    D = [random.randint(mean - dm, mean + dm ) for _ in range(n_req)]    # длительность обслуживания\n",
    "    dropped = 0\n",
    "    S = [0] * n_req\n",
    "\n",
    "    q = Queue(size)\n",
    "    \n",
    "    q.update(A[0] - 0)\n",
    "    Di = q.pushBack(D[0])\n",
    "    Ai = A[0] + Di if Di != -1 else -1\n",
    "    if Ai == -1: dropped += 1\n",
    "    S[0] = q.length\n",
    "    for i in range(1, n_req):\n",
    "        q.update(A[i] - A[i-1])\n",
    "        Di = q.pushBack(D[i])\n",
    "        Ai = A[i] + Di if Di != -1 else -1\n",
    "        S[i] = q.length\n",
    "        if Ai == -1: dropped += 1\n",
    "    \n",
    "    dropped = dropped / n_req\n",
    "    workload = sum(S) / len(S)\n",
    "    return dropped, workload\n",
    "\n",
    "k, j = 2, 32\n",
    "size    = [x for x in range(k,j)]\n",
    "intens  = [y for y in range(k,j)]\n",
    "mean    = [x-k+1 for x in intens]\n",
    "d_mean  = [0.5 for x in mean]\n",
    "\n",
    "# xy = list(product(intens, mean))\n",
    "# xs = [i for (i, m) in xy]\n",
    "# ys = [m for (i, m) in xy]\n",
    "# zs = [queue_test(i//m+2, i, m, 0.3)[1] for (i, m) in xy]\n",
    "\n",
    "# fig = plt.figure()\n",
    "# ax = fig.add_subplot(111, projection='3d')\n",
    "# ax.scatter(ys, xs, zs, s=10)\n",
    "# plt.show()\n",
    "\n",
    "\n",
    "           \n"
   ]
  },
  {
   "cell_type": "code",
   "execution_count": 7,
   "metadata": {},
   "outputs": [
    {
     "output_type": "stream",
     "name": "stdout",
     "text": [
      "999999\n1000000\n1000000\n-1\n-1\n"
     ]
    }
   ],
   "source": [
    "SAMPLES = \"1 0\\n\", \"1 1\\n0 0\", \"1 1\\n0 1\", \"1 2\\n0 1\\n0 1\", \"1 2\\n0 1\\n1 1\", \"1 5\\n999999 1\\n1000000 0\\n1000000 1\\n1000000 0\\n1000000 0\"\n",
    "OUTPUTS = '', '0', '0', '0\\n1', '0\\n1', '999999 1000000 1000000 -1 -1'\n",
    "\n",
    "READER = [(x for x in SAMPLES[i].split('\\n')) for i in range(len(SAMPLES))]                             # список генераторов входных данных\n",
    "input = lambda i=0:  next(READER[i])                                                                   # для эмулятора input()\n",
    "case = 5\n",
    "\n",
    "size, n = list(map(int, input(i=case).split()))\n",
    "\n",
    "q = Queue(size)\n",
    "\n",
    "\n",
    "if n > 0:\n",
    "    ai, di = list(map(int, input(i=case).split()))\n",
    "    q.update(ai - 0)\n",
    "    Di = q.pushBack(di)\n",
    "    Ai = (ai + Di) if (Di != -1) else -1\n",
    "    print(Ai)\n",
    "    for i in range(1, n):\n",
    "        ai1, di = list(map(int, input(i=case).split()))\n",
    "        q.update(ai1 - ai)\n",
    "        Di = q.pushBack(di)\n",
    "        Ai = (ai1 + Di) if (Di != -1) else -1\n",
    "        print(Ai)\n",
    "        ai = ai1\n"
   ]
  },
  {
   "source": [
    "# Стек с поддержкой максимума   \n",
    "Реализовать стек с поддержкой операций push, pop и max.   \n",
    "Вход. Последовательность запросов push, pop и max.   \n",
    "Выход. Для каждого запроса max вывести максимальное число, находящееся на стеке.  \n",
    "Формат входа. Первая строка содержит число запросов q. Каждая из последующих q строк задаёт запрос в одном из следующих форматов: push v, pop, or max.  \n",
    "Формат выхода. Для каждого запроса max выведите (в отдельной строке) текущий максимум на стеке.  \n",
    "Ограничения. 1 ≤ q ≤ 400 000, 0 ≤ v ≤ 100 000."
   ],
   "cell_type": "markdown",
   "metadata": {}
  },
  {
   "cell_type": "code",
   "execution_count": 8,
   "metadata": {},
   "outputs": [],
   "source": [
    "import sys\n",
    "from array import array\n",
    "from io import StringIO\n",
    "\n",
    "class StackArray():\n",
    "    def __init__(self):\n",
    "        self._stack = array('l')\n",
    "        self._max = array('l')\n",
    "        self._commands = {'push': self.push, 'pop': self.pop, 'max': self.max}\n",
    "        self._buffer = StringIO()\n",
    "    \n",
    "    def push(self, key):\n",
    "        self._stack.append(key)\n",
    "        if len(self._max) == 0:\n",
    "            self._max.append(key)\n",
    "        else:\n",
    "            self._max.append(max(self._max[-1], key))\n",
    "    \n",
    "    def pop(self, *args):\n",
    "        self._max.pop()\n",
    "        return self._stack.pop()\n",
    "    \n",
    "    def max(self, *args):\n",
    "        print(self._max[-1], file=self._buffer)\n",
    "\n",
    "    def run(self, command):\n",
    "        cmd = command.split()[0]\n",
    "        arg = int(command.split()[1]) if cmd == 'push' else None\n",
    "        self._commands[cmd](arg)\n",
    "\n",
    "    def flush(self):\n",
    "        sys.stdout.write(self._buffer.getvalue())\n",
    "        sys.stdout.flush()"
   ]
  },
  {
   "cell_type": "code",
   "execution_count": 9,
   "metadata": {},
   "outputs": [
    {
     "output_type": "stream",
     "name": "stdout",
     "text": [
      "2\n2\n"
     ]
    }
   ],
   "source": [
    "SAMPLE = \"\"\"5\n",
    "push 2\n",
    "push 1\n",
    "max\n",
    "pop\n",
    "max\"\"\"\n",
    "\n",
    "READER = (x for x in SAMPLE.split('\\n'))\n",
    "input = lambda: next(READER)             \n",
    "\n",
    "\n",
    "stack = StackArray()\n",
    "\n",
    "n = int(input())\n",
    "for i in range(n):\n",
    "    stack.run(input())\n",
    "stack.flush()\n"
   ]
  },
  {
   "source": [
    "# Максимум в скользящем окне  \n",
    "\n",
    "Найти максимум в каждом окне размера m данного массива чисел A\\[1..n].  \n",
    "Вход. Массив чисел A\\[1..n] и число 1 ≤ m ≤ n.  \n",
    "Выход. Максимум подмассива A\\[i..i + m − 1] для всех 1 ≤ i ≤ n − m + 1.  \n",
    "\n",
    "Формат входа. Первая строка входа содержит число n, вторая — массив A\\[1..n], третья — число m.  \n",
    "Формат выхода. n − m + 1 максимумов, разделённых пробелами. \n",
    "Ограничения. 1 ≤ n ≤ 10^5 , 1 ≤ m ≤ n, 0 ≤ A\\[i] ≤ 10^5 для всех 1 ≤ i ≤ n.\n"
   ],
   "cell_type": "markdown",
   "metadata": {}
  },
  {
   "cell_type": "code",
   "execution_count": 10,
   "metadata": {},
   "outputs": [],
   "source": [
    "from collections import namedtuple\n",
    "\n",
    "Item = namedtuple('Item', ['top', 'max'])\n",
    "\n",
    "class StackMax():\n",
    "    def __init__(self):\n",
    "        self.stack = list()\n",
    "    \n",
    "    def __len__(self):\n",
    "        return len(self.stack)\n",
    "\n",
    "    def push(self, key):\n",
    "        self.stack.append(Item(key, max(self.maximum(), key)))\n",
    "    \n",
    "    def pop(self):\n",
    "        return self.stack.pop().top if self.stack else -1\n",
    "    \n",
    "    def maximum(self):\n",
    "        return self.stack[-1].max if self.stack else -1\n",
    "\n",
    "\n",
    "class QueueMax():\n",
    "    def __init__(self, size=1):\n",
    "        self.size = size\n",
    "        self.head = StackMax()\n",
    "        self.tail = StackMax()\n",
    "    \n",
    "    def shift(self, key):\n",
    "        if len(self.head) < self.size:\n",
    "            self.enqueue(key)\n",
    "        else:\n",
    "            for _ in range(self.size):\n",
    "                self.tail.push(self.head.pop())\n",
    "            self.enqueue(key)\n",
    "        if len(self.tail) > 0:\n",
    "            self.dequeue()\n",
    "\n",
    "        lack = self.size - len(self.tail) - len(self.head)\n",
    "        return -1 if lack else self.maximum()\n",
    "\n",
    "    def enqueue(self, key):\n",
    "        self.head.push(key)\n",
    "    \n",
    "    def dequeue(self):\n",
    "        return self.tail.pop()\n",
    "    \n",
    "    def maximum(self):\n",
    "        return max(self.head.maximum(), self.tail.maximum())\n"
   ]
  },
  {
   "cell_type": "code",
   "execution_count": 11,
   "metadata": {},
   "outputs": [
    {
     "output_type": "stream",
     "name": "stdout",
     "text": [
      "7 7 5 6 6 "
     ]
    }
   ],
   "source": [
    "SAMPLE = \"8\\n2 7 3 1 5 2 6 2\\n4\", \"3\\n2 1 5\\n1\", \"3\\n2 3 9\\n3\"\n",
    "OUTPUT = \"7 7 5 6 6\", \"2 1 5\", \"9\"\n",
    "READER = (x for x in SAMPLE[0].split('\\n'))\n",
    "input = lambda: next(READER)    \n",
    "\n",
    "n = int(input())\n",
    "A = list(map(int, input().split()))\n",
    "m = int(input())\n",
    "\n",
    "mover = QueueMax(size=m)\n",
    "for val in A:\n",
    "    maximum = mover.shift(val)\n",
    "    if maximum != -1:\n",
    "        print(maximum, end=' ')\n"
   ]
  },
  {
   "source": [
    "## Полезность про замер времени в юпитере"
   ],
   "cell_type": "markdown",
   "metadata": {}
  },
  {
   "cell_type": "code",
   "execution_count": 12,
   "metadata": {},
   "outputs": [
    {
     "output_type": "stream",
     "name": "stdout",
     "text": [
      "180 ms ± 4.35 ms per loop (mean ± std. dev. of 7 runs, 1 loop each)\n"
     ]
    }
   ],
   "source": [
    "import numpy as np\n",
    "\n",
    "np.random.seed(0)\n",
    "values = np.random.randint(1, 100, size=100000)\n",
    "def get_reciprocal(values):\n",
    "    output = np.empty(len(values))\n",
    "    for i in range(len(values)):\n",
    "        output[i] = 1.0/values[i]\n",
    "        \n",
    "%timeit get_reciprocal(values)"
   ]
  },
  {
   "cell_type": "code",
   "execution_count": 13,
   "metadata": {},
   "outputs": [
    {
     "output_type": "stream",
     "name": "stdout",
     "text": [
      "9.94 ms ± 523 µs per loop (mean ± std. dev. of 7 runs, 100 loops each)\n"
     ]
    }
   ],
   "source": [
    "import random\n",
    "values = [random.randint(1, 100) for _ in range(100000)]\n",
    "def get_reciprocal(values):\n",
    "    output = [0] * len(values)\n",
    "    for i in range(len(values)):\n",
    "        output[i] = 1.0 / values[i]\n",
    "\n",
    "%timeit get_reciprocal(values)"
   ]
  },
  {
   "cell_type": "code",
   "execution_count": 14,
   "metadata": {},
   "outputs": [
    {
     "output_type": "stream",
     "name": "stdout",
     "text": [
      "8.58 ms ± 24.1 µs per loop (mean ± std. dev. of 7 runs, 100 loops each)\n"
     ]
    }
   ],
   "source": [
    "values = [random.randint(1, 100) for _ in range(100000)]\n",
    "\n",
    "%timeit output = list(map(lambda x: 1.0/x, values))"
   ]
  },
  {
   "cell_type": "code",
   "execution_count": 15,
   "metadata": {},
   "outputs": [
    {
     "output_type": "stream",
     "name": "stdout",
     "text": [
      "320 µs ± 1.28 µs per loop (mean ± std. dev. of 7 runs, 1000 loops each)\n"
     ]
    }
   ],
   "source": [
    "np.random.seed(0)\n",
    "values = np.random.randint(1, 100, size=100000)\n",
    "\n",
    "%timeit result = 1.0/values"
   ]
  },
  {
   "cell_type": "code",
   "execution_count": null,
   "metadata": {},
   "outputs": [],
   "source": []
  }
 ]
}